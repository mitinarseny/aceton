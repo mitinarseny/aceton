{
 "cells": [
  {
   "cell_type": "code",
   "execution_count": 3,
   "metadata": {},
   "outputs": [],
   "source": [
    "import requests as req\n",
    "\n",
    "url = 'https://api.dedust.io/v2/routing/plan'\n",
    "\n",
    "data = {\"from\":\"native\",\"to\":\"jetton:0:65aac9b5e380eae928db3c8e238d9bc0d61a9320fdc2bc7a2f6c87d6fedf9208\",\"amount\":\"1000000000\"}\n",
    "\n",
    "r = req.post(url, json=data)"
   ]
  },
  {
   "cell_type": "code",
   "execution_count": 4,
   "metadata": {},
   "outputs": [],
   "source": [
    "import numpy as np\n",
    "import datetime\n",
    "\n",
    "\n",
    "def get_pool_trades(pool):\n",
    "    url = f'https://api.dedust.io/v2/pools/{pool}/trades'\n",
    "    data = req.get(url).json()\n",
    "    amount_ins = np.array([int(x['amountIn']) for x in data])\n",
    "    amount_outs = np.array([int(x['amountOut']) for x in data])\n",
    "    traders = np.unique(np.array([x['sender'] for x in data]))\n",
    "    times = np.array([datetime.datetime.strptime(x['createdAt'], '%Y-%m-%dT%H:%M:%S.%fZ') for x in data])\n",
    "    times = np.sort(times)\n",
    "    number_of_trades = len(data)\n",
    "    return amount_ins, amount_outs, traders, times, number_of_trades\n",
    "\n",
    "def pool_stats(pool):\n",
    "    amount_ins, amount_outs, traders, times, number_of_trades = get_pool_trades(pool)\n",
    "    mean_in = np.mean(amount_ins)\n",
    "    mean_out = np.mean(amount_outs)\n",
    "    std_in = np.std(amount_ins)\n",
    "    std_out = np.std(amount_outs)\n",
    "    unique_traders = len(traders)\n",
    "\n",
    "    period = (times[-1] - times[0]).days\n",
    "    if period == 0: period = 1\n",
    "\n",
    "    tx_per_day = number_of_trades / period\n",
    "    return mean_in, mean_out, std_in, std_out, unique_traders, tx_per_day, number_of_trades"
   ]
  },
  {
   "cell_type": "code",
   "execution_count": null,
   "metadata": {},
   "outputs": [],
   "source": [
    "# добавить вероятность от кол-ва транзакций в день с учетом длины свопа\n",
    "# средняя сторона свопа "
   ]
  },
  {
   "cell_type": "code",
   "execution_count": 5,
   "metadata": {},
   "outputs": [
    {
     "data": {
      "text/plain": [
       "(76401283918.3,\n",
       " 14078078515.86,\n",
       " 207115222122.23795,\n",
       " 35941962288.97444,\n",
       " 40,\n",
       " 50.0,\n",
       " 50)"
      ]
     },
     "execution_count": 5,
     "metadata": {},
     "output_type": "execute_result"
    }
   ],
   "source": [
    "pool_stats('EQA-X_yo3fzzbDbJ_0bzFWKqtRuZFIRa1sJsveZJ1YpViO3r')"
   ]
  }
 ],
 "metadata": {
  "kernelspec": {
   "display_name": "Python 3",
   "language": "python",
   "name": "python3"
  },
  "language_info": {
   "codemirror_mode": {
    "name": "ipython",
    "version": 3
   },
   "file_extension": ".py",
   "mimetype": "text/x-python",
   "name": "python",
   "nbconvert_exporter": "python",
   "pygments_lexer": "ipython3",
   "version": "3.11.4"
  }
 },
 "nbformat": 4,
 "nbformat_minor": 2
}
