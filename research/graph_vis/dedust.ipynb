{
 "cells": [
  {
   "cell_type": "code",
   "execution_count": 1,
   "metadata": {},
   "outputs": [],
   "source": [
    "import requests as req\n",
    "import pandas as pd\n",
    "from pydantic import BaseModel\n",
    "from typing import Any"
   ]
  },
  {
   "cell_type": "code",
   "execution_count": 2,
   "metadata": {},
   "outputs": [],
   "source": [
    "r = req.get('https://api.dedust.io/v2/pools')\n",
    "pools = pd.DataFrame(r.json()) \n",
    "\n",
    "r0 = pools['assets'].apply(pd.Series)[0]\n",
    "r1 = pools['assets'].apply(pd.Series)[1]\n",
    "tokens = pd.concat([r0, r1])"
   ]
  },
  {
   "cell_type": "code",
   "execution_count": 3,
   "metadata": {},
   "outputs": [],
   "source": [
    "class Token(BaseModel):\n",
    "    native: bool\n",
    "    address: str\n",
    "    name: str | None  \n",
    "    symbol: str | None\n",
    "\n",
    "def process_token(token: dict[str, Any]) -> dict[str, str | bool]:\n",
    "    name = ''\n",
    "    symbol = ''\n",
    "    native = token.get('type') == 'native'\n",
    "    address = '0x' if native else token.get('address','address not found')\n",
    "\n",
    "    metadata = token.get('metadata', {})\n",
    "    if metadata:\n",
    "        name = metadata.get('name')\n",
    "        symbol = metadata.get('symbol')\n",
    "\n",
    "    return Token(native=native, address=address, name=name, symbol=symbol).model_dump()"
   ]
  },
  {
   "cell_type": "code",
   "execution_count": 4,
   "metadata": {},
   "outputs": [],
   "source": [
    "data = []\n",
    "for token in tokens:\n",
    "    data.append(process_token(token))\n",
    "tokens = pd.DataFrame(data)\n",
    "\n",
    "tokens = tokens.drop_duplicates(subset=['address'])\n",
    "tokens = tokens[['address','name','symbol']].rename({'address':'id'}, axis=1)\n",
    "pools = pools['assets'].apply(pd.Series)"
   ]
  },
  {
   "cell_type": "code",
   "execution_count": 5,
   "metadata": {},
   "outputs": [],
   "source": [
    "pools[0] = pools[0].apply(process_token)\n",
    "pools[1] = pools[1].apply(process_token)\n",
    "for column in pools.columns:\n",
    "    pools[column] = pools[column].apply(lambda x: x['address'])\n",
    "pools.columns = ['source','target']"
   ]
  },
  {
   "cell_type": "code",
   "execution_count": 6,
   "metadata": {},
   "outputs": [],
   "source": [
    "tokens.to_csv('tokens.csv', index=False, sep=';')\n",
    "pools.to_csv('pools.csv', index=False, sep=';')"
   ]
  }
 ],
 "metadata": {
  "kernelspec": {
   "display_name": "Python 3",
   "language": "python",
   "name": "python3"
  },
  "language_info": {
   "codemirror_mode": {
    "name": "ipython",
    "version": 3
   },
   "file_extension": ".py",
   "mimetype": "text/x-python",
   "name": "python",
   "nbconvert_exporter": "python",
   "pygments_lexer": "ipython3",
   "version": "3.11.4"
  }
 },
 "nbformat": 4,
 "nbformat_minor": 2
}
