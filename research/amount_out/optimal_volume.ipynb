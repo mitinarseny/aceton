{
 "cells": [
  {
   "cell_type": "code",
   "execution_count": 25,
   "metadata": {},
   "outputs": [],
   "source": [
    "import sympy as sp\n",
    "\n",
    "# Define symbols\n",
    "a_ab, a_ba, a_bc, a_cb, a_ca, a_ac = sp.symbols('a_ab a_ba a_bc a_cb a_ca a_ac', real=True, positive=True)\n",
    "delta_a, delta_b, delta_c = sp.symbols('delta_a delta_b delta_c', real=True, positive=True)"
   ]
  },
  {
   "cell_type": "code",
   "execution_count": 30,
   "metadata": {},
   "outputs": [],
   "source": [
    "swap = sp.Eq((a_ac + delta_a) * (a_ca - delta_c), a_ac * a_ca)\n"
   ]
  },
  {
   "cell_type": "code",
   "execution_count": 42,
   "metadata": {},
   "outputs": [
    {
     "data": {
      "text/latex": [
       "$\\displaystyle \\frac{a_{ca} \\delta_{a}}{a_{ac} + \\delta_{a}}$"
      ],
      "text/plain": [
       "a_ca*delta_a/(a_ac + delta_a)"
      ]
     },
     "execution_count": 42,
     "metadata": {},
     "output_type": "execute_result"
    }
   ],
   "source": [
    "sp.solve(swap, delta_c)[0]"
   ]
  },
  {
   "cell_type": "code",
   "execution_count": null,
   "metadata": {},
   "outputs": [],
   "source": [
    "step1 = sp.Eq((a_ab + delta_a) * (a_ba - delta_b), a_ab * a_ba)\n",
    "delta_b = sp.solve(step1, delta_b)[0]"
   ]
  },
  {
   "cell_type": "code",
   "execution_count": 37,
   "metadata": {},
   "outputs": [],
   "source": [
    "step2 = sp.Eq((a_bc + delta_b) * (a_cb - delta_c), a_bc * a_cb)"
   ]
  },
  {
   "cell_type": "code",
   "execution_count": 44,
   "metadata": {},
   "outputs": [
    {
     "data": {
      "text/latex": [
       "$\\displaystyle \\frac{a_{ba} a_{cb} \\delta_{a}}{a_{ab} a_{bc} + a_{ba} \\delta_{a} + a_{bc} \\delta_{a}}$"
      ],
      "text/plain": [
       "a_ba*a_cb*delta_a/(a_ab*a_bc + a_ba*delta_a + a_bc*delta_a)"
      ]
     },
     "execution_count": 44,
     "metadata": {},
     "output_type": "execute_result"
    }
   ],
   "source": [
    "sp.solve(step2, delta_c)[0]"
   ]
  },
  {
   "cell_type": "code",
   "execution_count": 47,
   "metadata": {},
   "outputs": [
    {
     "data": {
      "text/latex": [
       "$\\displaystyle \\frac{a_{ba} a_{ca} \\delta_{a} - a_{ba} a_{cb} \\delta_{a} + a_{bc} a_{ca} \\left(a_{ab} + \\delta_{a}\\right)}{a_{ba} a_{cb}}$"
      ],
      "text/plain": [
       "(a_ba*a_ca*delta_a - a_ba*a_cb*delta_a + a_bc*a_ca*(a_ab + delta_a))/(a_ba*a_cb)"
      ]
     },
     "execution_count": 47,
     "metadata": {},
     "output_type": "execute_result"
    }
   ],
   "source": [
    "sp.solve(sp.Eq(sp.solve(swap, delta_c)[0], sp.solve(step2, delta_c)[0]), a_ac)[0]"
   ]
  },
  {
   "cell_type": "code",
   "execution_count": null,
   "metadata": {},
   "outputs": [],
   "source": []
  }
 ],
 "metadata": {
  "kernelspec": {
   "display_name": "Python 3",
   "language": "python",
   "name": "python3"
  },
  "language_info": {
   "codemirror_mode": {
    "name": "ipython",
    "version": 3
   },
   "file_extension": ".py",
   "mimetype": "text/x-python",
   "name": "python",
   "nbconvert_exporter": "python",
   "pygments_lexer": "ipython3",
   "version": "3.11.4"
  }
 },
 "nbformat": 4,
 "nbformat_minor": 2
}
