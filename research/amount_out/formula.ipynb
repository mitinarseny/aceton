{
 "cells": [
  {
   "cell_type": "code",
   "execution_count": 45,
   "metadata": {},
   "outputs": [
    {
     "data": {
      "text/latex": [
       "$\\displaystyle \\frac{- a_{ab} a_{bc} a_{ca} + a_{ac} a_{ba} a_{cb} - a_{ba} a_{ca} am_{in a} - a_{ba} a_{cb} am_{in a} - a_{bc} a_{ca} am_{in a}}{a_{ab} a_{bc} a_{ca} + a_{ba} a_{ca} am_{in a} + a_{ba} a_{cb} am_{in a} + a_{bc} a_{ca} am_{in a}}$"
      ],
      "text/plain": [
       "(-a_ab*a_bc*a_ca + a_ac*a_ba*a_cb - a_ba*a_ca*am_in_a - a_ba*a_cb*am_in_a - a_bc*a_ca*am_in_a)/(a_ab*a_bc*a_ca + a_ba*a_ca*am_in_a + a_ba*a_cb*am_in_a + a_bc*a_ca*am_in_a)"
      ]
     },
     "execution_count": 45,
     "metadata": {},
     "output_type": "execute_result"
    }
   ],
   "source": [
    "import sympy as sp\n",
    "\n",
    "# Define variables\n",
    "x, y, z = sp.symbols('x y z')\n",
    "a_ab, a_ba, am_in_a, am_out_b = sp.symbols('a_ab a_ba am_in_a am_out_b', real=True, positive=True)\n",
    "\n",
    "# First hop A -> B\n",
    "hop_1 = sp.Eq((a_ab + am_in_a) * (a_ba - am_out_b), a_ab * a_ba)\n",
    "am_in_b = sp.solve(hop_1, am_out_b)[0]\n",
    "\n",
    "# Second hop B -> C\n",
    "a_bc, a_cb, am_out_c = sp.symbols('a_bc a_cb am_out_c', real=True, positive=True)\n",
    "hop_2 = sp.Eq((a_bc + am_in_b) * (a_cb - am_out_c), a_bc * a_cb)\n",
    "am_in_c = sp.solve(hop_2, am_out_c)[0]\n",
    "\n",
    "# Third hop C -> A\n",
    "a_ca, a_ac, am_out_a = sp.symbols('a_ca a_ac am_out_a', real=True, positive=True)\n",
    "hop_3 = sp.Eq((a_ca + am_in_c) * (a_ac - am_out_a), a_ca * a_ac)\n",
    "am_in_a1 = sp.solve(hop_3, am_out_a)[0]\n",
    "\n",
    "# Determine minimal input amount for specified profit\n",
    "bound_low = sp.symbols('bound_low', real=True, positive=True)\n",
    "profit = sp.simplify((am_in_a1 - am_in_a)/am_in_a)\n",
    "profit"
   ]
  },
  {
   "cell_type": "code",
   "execution_count": 48,
   "metadata": {},
   "outputs": [
    {
     "data": {
      "text/latex": [
       "$\\displaystyle \\frac{a_{bc} a_{ca} am_{in a} bound_{low}}{a_{ac} a_{cb} - a_{ca} am_{in a} bound_{low} - a_{cb} am_{in a} bound_{low}}$"
      ],
      "text/plain": [
       "a_bc*a_ca*am_in_a*bound_low/(a_ac*a_cb - a_ca*am_in_a*bound_low - a_cb*am_in_a*bound_low)"
      ]
     },
     "execution_count": 48,
     "metadata": {},
     "output_type": "execute_result"
    }
   ],
   "source": [
    "x, y, z = sp.symbols('x y z')\n",
    "a_ab, a_ba, am_in_a, am_out_b = sp.symbols('a_ab a_ba am_in_a am_out_b', real=True, positive=True)\n",
    "a_bc, a_cb, am_out_c = sp.symbols('a_bc a_cb am_out_c', real=True, positive=True)\n",
    "a_ca, a_ac, am_out_a = sp.symbols('a_ca a_ac am_out_a', real=True, positive=True)\n",
    "r1_ab, r2_ab, r1_bc, r2_bc, r1_ca, r2_ca, bound_low = sp.symbols('r1_ab r2_ab r1_bc r2_bc r1_ca r2_ca bound_low', real=True, positive=True)\n",
    "\n",
    "am_in_a1_required = am_in_a * bound_low\n",
    "# am_in_a1_required = sp.symbols(am_in_a1_required)\n",
    "\n",
    "\"\"\"\n",
    "am_in_a1_required = am_in_a * bound_low\n",
    "rouded up/down\n",
    "\"\"\"\n",
    "\n",
    "# hop_3 = sp.Eq((a_ca + x * r1_ca) * (a_ac - am_out_a * r2_ca), a_ca * a_ac) # - with fee\n",
    "hop_3 = sp.Eq((a_ca + x) * (a_ac - am_out_a), a_ca * a_ac)\n",
    "am_in_c_required = sp.solve(hop_3.subs(am_out_a, am_in_a1_required), x)[0]\n",
    "\n",
    "\n",
    "# hop_2 = sp.Eq((a_bc + x * r1_bc) * (a_cb - am_out_c * r2_bc), a_bc * a_cb) # - with fee\n",
    "hop_2 = sp.Eq((a_bc + x) * (a_cb - am_out_c), a_bc * a_cb)\n",
    "am_in_b_required = sp.solve(hop_2.subs(am_out_c, am_in_c_required), x)[0]\n",
    "am_in_b_required"
   ]
  },
  {
   "cell_type": "code",
   "execution_count": 41,
   "metadata": {},
   "outputs": [],
   "source": [
    "data = [2500000, 1000, 1000, 1000, 1000, 50000000]\n",
    "swap_params = {\n",
    "    a_ab: data[0],\n",
    "    a_ba: data[1],\n",
    "    a_bc: data[2],\n",
    "    a_cb: data[3],\n",
    "    a_ca: data[4],\n",
    "    a_ac: data[5],\n",
    "    am_in_a: 1000,\n",
    "    bound_low:1.05\n",
    "}\n"
   ]
  },
  {
   "cell_type": "code",
   "execution_count": 42,
   "metadata": {},
   "outputs": [
    {
     "data": {
      "text/latex": [
       "$\\displaystyle 19976.0287654814$"
      ],
      "text/plain": [
       "19976.0287654814"
      ]
     },
     "execution_count": 42,
     "metadata": {},
     "output_type": "execute_result"
    }
   ],
   "source": [
    "am_in_a1.subs(swap_params).evalf()"
   ]
  },
  {
   "cell_type": "code",
   "execution_count": 43,
   "metadata": {},
   "outputs": [
    {
     "data": {
      "text/latex": [
       "$\\displaystyle 18.9760287654814$"
      ],
      "text/plain": [
       "18.9760287654814"
      ]
     },
     "execution_count": 43,
     "metadata": {},
     "output_type": "execute_result"
    }
   ],
   "source": [
    "profit.subs(swap_params).evalf()"
   ]
  },
  {
   "cell_type": "code",
   "execution_count": 44,
   "metadata": {},
   "outputs": [
    {
     "data": {
      "text/latex": [
       "$\\displaystyle 0.0210008820370456$"
      ],
      "text/plain": [
       "0.0210008820370456"
      ]
     },
     "execution_count": 44,
     "metadata": {},
     "output_type": "execute_result"
    }
   ],
   "source": [
    "am_in_b_required.evalf(subs=swap_params)"
   ]
  },
  {
   "cell_type": "code",
   "execution_count": null,
   "metadata": {},
   "outputs": [],
   "source": []
  }
 ],
 "metadata": {
  "kernelspec": {
   "display_name": "Python 3",
   "language": "python",
   "name": "python3"
  },
  "language_info": {
   "codemirror_mode": {
    "name": "ipython",
    "version": 3
   },
   "file_extension": ".py",
   "mimetype": "text/x-python",
   "name": "python",
   "nbconvert_exporter": "python",
   "pygments_lexer": "ipython3",
   "version": "3.11.4"
  }
 },
 "nbformat": 4,
 "nbformat_minor": 2
}
